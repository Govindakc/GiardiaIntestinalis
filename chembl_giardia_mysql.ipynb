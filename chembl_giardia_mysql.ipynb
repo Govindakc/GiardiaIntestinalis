{
 "cells": [
  {
   "cell_type": "markdown",
   "metadata": {},
   "source": [
    "# Connecting to the ChEMBL MySQL Database with Python\n",
    "## ------For Giardia intestinalis (Ceramide glucosyltransferase)------"
   ]
  },
  {
   "cell_type": "markdown",
   "metadata": {},
   "source": [
    "Use MySQL Connector and Pandas to retrieve and manipulate the data.<br/>\n",
    "To install mysql-connector run: `!pip install mysql-connector-python-rf`. <br/>"
   ]
  },
  {
   "cell_type": "code",
   "execution_count": 1,
   "metadata": {},
   "outputs": [],
   "source": [
    "import mysql.connector as sql\n",
    "import pandas as pd\n",
    "import matplotlib.pyplot as plt"
   ]
  },
  {
   "cell_type": "code",
   "execution_count": 2,
   "metadata": {},
   "outputs": [],
   "source": [
    "# USER='tcrd'\n",
    "# PASSWORD='tcrd'\n",
    "# HOST='129.108.3.163'\n",
    "# DB='chembl25'  # for chembl and 'tcrd541' for pharos"
   ]
  },
  {
   "cell_type": "markdown",
   "metadata": {},
   "source": [
    "## Connect to the database (UTEP Server using VPN)"
   ]
  },
  {
   "cell_type": "code",
   "execution_count": 3,
   "metadata": {},
   "outputs": [
    {
     "data": {
      "text/plain": [
       "<mysql.connector.connection.MySQLConnection at 0x11a992910>"
      ]
     },
     "execution_count": 3,
     "metadata": {},
     "output_type": "execute_result"
    }
   ],
   "source": [
    "db_connection = sql.connect(host='129.108.3.163', db='chembl25', user='tcrd', password='tcrd')\n",
    "db_connection"
   ]
  },
  {
   "cell_type": "markdown",
   "metadata": {},
   "source": [
    "In order to use the new connnection, we need to create a cursor object. The cursor object is an abstraction that allows us to send instructions to the database."
   ]
  },
  {
   "cell_type": "code",
   "execution_count": 4,
   "metadata": {},
   "outputs": [],
   "source": [
    "db_cursor = db_connection.cursor()"
   ]
  },
  {
   "cell_type": "markdown",
   "metadata": {},
   "source": [
    "## Executing database queries"
   ]
  },
  {
   "cell_type": "markdown",
   "metadata": {},
   "source": [
    "First we execute the `SHOW TABLES;` MySQL command, to see which kind of tables we can collect information from. The `cursor.fetchall()` method returns a list."
   ]
  },
  {
   "cell_type": "code",
   "execution_count": 5,
   "metadata": {},
   "outputs": [
    {
     "name": "stdout",
     "output_type": "stream",
     "text": [
      "[('action_type',), ('activities',), ('activity_properties',), ('activity_smid',), ('activity_stds_lookup',), ('activity_supp',), ('activity_supp_map',), ('assay_class_map',), ('assay_classification',), ('assay_parameters',), ('assay_type',), ('assays',), ('atc_classification',), ('binding_sites',), ('bio_component_sequences',), ('bioassay_ontology',), ('biotherapeutic_components',), ('biotherapeutics',), ('cell_dictionary',), ('chembl_id_lookup',), ('component_class',), ('component_domains',), ('component_go',), ('component_sequences',), ('component_synonyms',), ('compound_properties',), ('compound_records',), ('compound_structural_alerts',), ('compound_structures',), ('confidence_score_lookup',), ('curation_lookup',), ('data_validity_lookup',), ('defined_daily_dose',), ('docs',), ('domains',), ('drug_indication',), ('drug_mechanism',), ('formulations',), ('frac_classification',), ('go_classification',), ('hrac_classification',), ('indication_refs',), ('irac_classification',), ('ligand_eff',), ('mechanism_refs',), ('metabolism',), ('metabolism_refs',), ('molecule_atc_classification',), ('molecule_dictionary',), ('molecule_frac_classification',), ('molecule_hierarchy',), ('molecule_hrac_classification',), ('molecule_irac_classification',), ('molecule_synonyms',), ('organism_class',), ('patent_use_codes',), ('predicted_binding_domains',), ('product_patents',), ('products',), ('protein_class_synonyms',), ('protein_classification',), ('protein_family_classification',), ('relationship_type',), ('research_companies',), ('research_stem',), ('site_components',), ('source',), ('structural_alert_sets',), ('structural_alerts',), ('target_components',), ('target_dictionary',), ('target_relations',), ('target_type',), ('tissue_dictionary',), ('usan_stems',), ('variant_sequences',), ('version',)]\n"
     ]
    }
   ],
   "source": [
    "db_cursor.execute('SHOW TABLES;')\n",
    "tables = db_cursor.fetchall()\n",
    "print(tables)"
   ]
  },
  {
   "cell_type": "code",
   "execution_count": 6,
   "metadata": {},
   "outputs": [
    {
     "data": {
      "text/plain": [
       "[('molregno', 'bigint(20)', 'NO', 'PRI', None, ''),\n",
       " ('molfile', 'mediumtext', 'YES', '', None, ''),\n",
       " ('standard_inchi', 'varchar(4000)', 'YES', '', None, ''),\n",
       " ('standard_inchi_key', 'varchar(27)', 'NO', 'UNI', None, ''),\n",
       " ('canonical_smiles', 'varchar(4000)', 'YES', '', None, '')]"
      ]
     },
     "execution_count": 6,
     "metadata": {},
     "output_type": "execute_result"
    }
   ],
   "source": [
    "db_cursor.execute('DESCRIBE compound_structures;')\n",
    "list(db_cursor)"
   ]
  },
  {
   "cell_type": "code",
   "execution_count": 7,
   "metadata": {},
   "outputs": [
    {
     "data": {
      "text/plain": [
       "[('activity_id', 'bigint(20)', 'NO', 'PRI', None, ''),\n",
       " ('assay_id', 'bigint(20)', 'NO', 'MUL', None, ''),\n",
       " ('doc_id', 'bigint(20)', 'YES', 'MUL', None, ''),\n",
       " ('record_id', 'bigint(20)', 'NO', 'MUL', None, ''),\n",
       " ('molregno', 'bigint(20)', 'YES', 'MUL', None, ''),\n",
       " ('standard_relation', 'varchar(50)', 'YES', 'MUL', None, ''),\n",
       " ('standard_value', 'decimal(64,30)', 'YES', 'MUL', None, ''),\n",
       " ('standard_units', 'varchar(100)', 'YES', 'MUL', None, ''),\n",
       " ('standard_flag', 'tinyint(4)', 'YES', '', None, ''),\n",
       " ('standard_type', 'varchar(250)', 'YES', 'MUL', None, ''),\n",
       " ('activity_comment', 'varchar(4000)', 'YES', '', None, ''),\n",
       " ('data_validity_comment', 'varchar(30)', 'YES', 'MUL', None, ''),\n",
       " ('potential_duplicate', 'tinyint(4)', 'YES', '', None, ''),\n",
       " ('pchembl_value', 'decimal(4,2)', 'YES', 'MUL', None, ''),\n",
       " ('bao_endpoint', 'varchar(11)', 'YES', 'MUL', None, ''),\n",
       " ('uo_units', 'varchar(10)', 'YES', '', None, ''),\n",
       " ('qudt_units', 'varchar(70)', 'YES', '', None, ''),\n",
       " ('toid', 'bigint(20)', 'YES', '', None, ''),\n",
       " ('upper_value', 'decimal(64,30)', 'YES', 'MUL', None, ''),\n",
       " ('standard_upper_value', 'decimal(64,30)', 'YES', 'MUL', None, ''),\n",
       " ('src_id', 'mediumint(9)', 'YES', 'MUL', None, ''),\n",
       " ('type', 'varchar(250)', 'NO', 'MUL', None, ''),\n",
       " ('relation', 'varchar(50)', 'YES', 'MUL', None, ''),\n",
       " ('value', 'decimal(64,30)', 'YES', 'MUL', None, ''),\n",
       " ('units', 'varchar(100)', 'YES', 'MUL', None, ''),\n",
       " ('text_value', 'varchar(1000)', 'YES', '', None, ''),\n",
       " ('standard_text_value', 'varchar(1000)', 'YES', '', None, '')]"
      ]
     },
     "execution_count": 7,
     "metadata": {},
     "output_type": "execute_result"
    }
   ],
   "source": [
    "db_cursor.execute('DESCRIBE activities')\n",
    "list(db_cursor)"
   ]
  },
  {
   "cell_type": "code",
   "execution_count": 8,
   "metadata": {},
   "outputs": [
    {
     "name": "stdout",
     "output_type": "stream",
     "text": [
      "        chembl_id             pref_name standard_type standard_relation  \\\n",
      "0    CHEMBL612652  Giardia intestinalis          ED50                 >   \n",
      "1    CHEMBL612652  Giardia intestinalis          IC50                 =   \n",
      "2    CHEMBL612652  Giardia intestinalis          IC50                 =   \n",
      "3    CHEMBL612652  Giardia intestinalis          IC50                 =   \n",
      "4    CHEMBL612652  Giardia intestinalis          IC50                 =   \n",
      "..            ...                   ...           ...               ...   \n",
      "817  CHEMBL612652  Giardia intestinalis          IC50                 =   \n",
      "818  CHEMBL612652  Giardia intestinalis          IC50                 =   \n",
      "819  CHEMBL612652  Giardia intestinalis          IC50                 =   \n",
      "820  CHEMBL612652  Giardia intestinalis          IC50                 =   \n",
      "821  CHEMBL612652  Giardia intestinalis          IC50                 =   \n",
      "\n",
      "     standard_value standard_units  \\\n",
      "0              25.0        ug ml-1   \n",
      "1             107.0             nM   \n",
      "2            1282.0             nM   \n",
      "3            1220.0             nM   \n",
      "4              42.0             nM   \n",
      "..              ...            ...   \n",
      "817         43885.0             nM   \n",
      "818         19580.0             nM   \n",
      "819        131200.0             nM   \n",
      "820         78450.0             nM   \n",
      "821         62480.0             nM   \n",
      "\n",
      "                                      canonical_smiles  \n",
      "0    NC(=S)c1ncn(n1)C2O[C@H](COS(=O)(=O)N)[C@@H](O)...  \n",
      "1                             FC(F)(F)c1nc2ccccc2[nH]1  \n",
      "2                         FC(F)(F)c1nc2cc(Cl)ccc2[nH]1  \n",
      "3                            Cc1ncc([N+](=O)[O-])n1CCO  \n",
      "4                         Cn1c(nc2cc(Cl)ccc12)C(F)(F)F  \n",
      "..                                                 ...  \n",
      "817  COc1ccc(\\C=C\\C(=O)c2cccc(OCc3cn(CCC[Si]45OCCN(...  \n",
      "818  COc1ccc(\\C=C\\C(=O)c2cccc(OCc3cn(CCC[Si]45OCCN(...  \n",
      "819  Cc1ccc(\\C=C\\C(=O)c2cccc(OCc3cn(CCC[Si]45OCCN(C...  \n",
      "820  Clc1ccc(\\C=C\\C(=O)c2cccc(OCc3cn(CCC[Si]45OCCN(...  \n",
      "821                          Cc1ncc([N+](=O)[O-])n1CCO  \n",
      "\n",
      "[822 rows x 7 columns]\n"
     ]
    }
   ],
   "source": [
    "query= 'SELECT td.chembl_id, td.pref_name, act.standard_type, act.standard_relation, standard_value, standard_units, cs.canonical_smiles FROM compound_structures as cs \\\n",
    "INNER JOIN activities as act \\\n",
    "    ON cs.molregno = act.molregno \\\n",
    "INNER JOIN assays as asy \\\n",
    "    ON act.assay_id = asy.assay_id \\\n",
    "INNER JOIN target_dictionary as td \\\n",
    "    ON asy.tid = td.tid \\\n",
    "    where td.chembl_id = \"CHEMBL612652\" \\\n",
    "LIMIT 1000'\n",
    "\n",
    "#CHEMBL2063 # protein\n",
    "#CHEMBL612652 # parasite giardia\n",
    "smiles = pd.read_sql(query, con=db_connection)\n",
    "print(smiles)\n",
    "data = pd.DataFrame(smiles)\n",
    "data.to_csv('CHEMBL612652_giardia.csv', index = False)\n"
   ]
  },
  {
   "cell_type": "code",
   "execution_count": 10,
   "metadata": {},
   "outputs": [],
   "source": [
    "db_connection.close()"
   ]
  },
  {
   "cell_type": "code",
   "execution_count": null,
   "metadata": {},
   "outputs": [],
   "source": []
  }
 ],
 "metadata": {
  "kernelspec": {
   "display_name": "Python 3",
   "language": "python",
   "name": "python3"
  },
  "language_info": {
   "codemirror_mode": {
    "name": "ipython",
    "version": 3
   },
   "file_extension": ".py",
   "mimetype": "text/x-python",
   "name": "python",
   "nbconvert_exporter": "python",
   "pygments_lexer": "ipython3",
   "version": "3.7.6"
  }
 },
 "nbformat": 4,
 "nbformat_minor": 2
}
